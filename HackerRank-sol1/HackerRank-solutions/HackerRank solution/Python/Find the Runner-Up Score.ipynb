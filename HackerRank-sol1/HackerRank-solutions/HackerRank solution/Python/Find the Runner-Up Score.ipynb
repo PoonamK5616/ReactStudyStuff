{
 "cells": [
  {
   "cell_type": "raw",
   "metadata": {},
   "source": [
    "Given the participants' score sheet for your University Sports Day, you are required to find the runner-up score. You are given  scores. Store them in a list and find the score of the runner-up.\n",
    "\n",
    "Input Format\n",
    "\n",
    "The first line contains . The second line contains an array   of  integers each separated by a space.\n",
    "\n",
    "Constraints\n",
    "\n",
    "Output Format\n",
    "\n",
    "Print the runner-up score.\n",
    "\n",
    "Sample Input 0\n",
    "\n",
    "5\n",
    "2 3 6 6 5\n",
    "Sample Output 0\n",
    "\n",
    "5\n",
    "Explanation 0\n",
    "\n",
    "Given list is . The maximum score is , second maximum is . Hence, we print  as the runner-up score."
   ]
  },
  {
   "cell_type": "code",
   "execution_count": null,
   "metadata": {},
   "outputs": [],
   "source": [
    "if __name__ == '__main__':\n",
    "    n = int(input())\n",
    "    arr = list(map(int, input().split()))\n",
    "    number = max([num for num in arr if num != max(arr) ])\n",
    "    print(number)"
   ]
  }
 ],
 "metadata": {
  "kernelspec": {
   "display_name": "Python 3",
   "language": "python",
   "name": "python3"
  },
  "language_info": {
   "codemirror_mode": {
    "name": "ipython",
    "version": 3
   },
   "file_extension": ".py",
   "mimetype": "text/x-python",
   "name": "python",
   "nbconvert_exporter": "python",
   "pygments_lexer": "ipython3",
   "version": "3.7.4"
  }
 },
 "nbformat": 4,
 "nbformat_minor": 2
}
