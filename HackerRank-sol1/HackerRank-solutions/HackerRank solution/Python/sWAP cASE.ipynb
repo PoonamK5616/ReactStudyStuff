{
 "cells": [
  {
   "cell_type": "raw",
   "metadata": {},
   "source": [
    "You are given a string and your task is to swap cases. In other words, convert all lowercase letters to uppercase letters and vice versa.\n",
    "\n",
    "For Example:\n",
    "\n",
    "Www.HackerRank.com → wWW.hACKERrANK.COM\n",
    "Pythonist 2 → pYTHONIST 2\n",
    "Input Format\n",
    "\n",
    "A single line containing a string .\n",
    "\n",
    "Constraints\n",
    "\n",
    "\n",
    "Output Format\n",
    "\n",
    "Print the modified string .\n",
    "\n",
    "Sample Input 0\n",
    "\n",
    "HackerRank.com presents \"Pythonist 2\".\n",
    "Sample Output 0\n",
    "\n",
    "hACKERrANK.COM PRESENTS \"pYTHONIST 2\"."
   ]
  },
  {
   "cell_type": "raw",
   "metadata": {},
   "source": [
    "def swap_case(s):\n",
    "    new_String = \"\"\n",
    "    for char in s :\n",
    "        if char == char.upper(): new_String += char.lower()\n",
    "        else: new_String += char.upper()\n",
    "    return new_String\n",
    "\n",
    "if __name__ == '__main__':\n",
    "    s = input()\n",
    "    result = swap_case(s)\n",
    "    print(result)"
   ]
  }
 ],
 "metadata": {
  "kernelspec": {
   "display_name": "Python 3",
   "language": "python",
   "name": "python3"
  },
  "language_info": {
   "codemirror_mode": {
    "name": "ipython",
    "version": 3
   },
   "file_extension": ".py",
   "mimetype": "text/x-python",
   "name": "python",
   "nbconvert_exporter": "python",
   "pygments_lexer": "ipython3",
   "version": "3.7.4"
  }
 },
 "nbformat": 4,
 "nbformat_minor": 2
}
