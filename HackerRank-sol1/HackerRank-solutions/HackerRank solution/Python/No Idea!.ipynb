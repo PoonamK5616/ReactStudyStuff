{
 "cells": [
  {
   "cell_type": "raw",
   "metadata": {},
   "source": [
    "There is an array of  integers. There are also  disjoint sets,  and , each containing  integers. You like all the integers in set  and dislike all the integers in set . Your initial happiness is . For each  integer in the array, if , you add  to your happiness. If , you add  to your happiness. Otherwise, your happiness does not change. Output your final happiness at the end.\n",
    "\n",
    "Note: Since  and  are sets, they have no repeated elements. However, the array might contain duplicate elements.\n",
    "\n",
    "Constraints\n",
    "\n",
    "\n",
    "\n",
    "Input Format\n",
    "\n",
    "The first line contains integers  and  separated by a space.\n",
    "The second line contains  integers, the elements of the array.\n",
    "The third and fourth lines contain  integers,  and , respectively.\n",
    "\n",
    "Output Format\n",
    "\n",
    "Output a single integer, your total happiness.\n",
    "\n",
    "Sample Input\n",
    "\n",
    "3 2\n",
    "1 5 3\n",
    "3 1\n",
    "5 7\n",
    "Sample Output\n",
    "\n",
    "1\n",
    "Explanation\n",
    "\n",
    "You gain  unit of happiness for elements  and  in set . You lose  unit for  in set . The element  in set  does not exist in the array so it is not included in the calculation.\n",
    "\n",
    "Hence, the total happiness is ."
   ]
  },
  {
   "cell_type": "code",
   "execution_count": 1,
   "metadata": {},
   "outputs": [
    {
     "data": {
      "text/plain": [
       "range(0, 10)"
      ]
     },
     "execution_count": 1,
     "metadata": {},
     "output_type": "execute_result"
    }
   ],
   "source": [
    "range(10)"
   ]
  },
  {
   "cell_type": "code",
   "execution_count": 12,
   "metadata": {},
   "outputs": [
    {
     "name": "stdout",
     "output_type": "stream",
     "text": [
      "4 5\n",
      "3 4 5\n",
      "2 3\n",
      "1 2\n",
      "4 4 [3, 4, 5] [2, 3] [1, 2]\n"
     ]
    }
   ],
   "source": [
    "n,m = input().split()\n",
    "array = input().split()\n",
    "A= set(input().split())\n",
    "B = set(input().split())\n",
    "print(n,n,array,A,B)\n",
    "happiness =0\n",
    "for i in array:\n",
    "        if i in A:\n",
    "            happiness+=1\n",
    "        elif i in B:\n",
    "            happiness-=1\n",
    "        else:pass\n",
    "        \n",
    "print(happiness)"
   ]
  }
 ],
 "metadata": {
  "kernelspec": {
   "display_name": "Python 3",
   "language": "python",
   "name": "python3"
  },
  "language_info": {
   "codemirror_mode": {
    "name": "ipython",
    "version": 3
   },
   "file_extension": ".py",
   "mimetype": "text/x-python",
   "name": "python",
   "nbconvert_exporter": "python",
   "pygments_lexer": "ipython3",
   "version": "3.7.4"
  }
 },
 "nbformat": 4,
 "nbformat_minor": 2
}
