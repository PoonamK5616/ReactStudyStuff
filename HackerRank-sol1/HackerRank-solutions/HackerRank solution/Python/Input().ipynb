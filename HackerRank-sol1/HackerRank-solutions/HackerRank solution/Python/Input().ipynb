{
 "cells": [
  {
   "cell_type": "raw",
   "metadata": {},
   "source": [
    "input()\n",
    "In Python 2, the expression input() is equivalent to eval(raw _input(prompt)).\n",
    "\n",
    "Code\n",
    "\n",
    ">>> input()  \n",
    "1+2\n",
    "3\n",
    ">>> company = 'HackerRank'\n",
    ">>> website = 'www.hackerrank.com'\n",
    ">>> input()\n",
    "'The company name: '+company+' and website: '+website\n",
    "'The company name: HackerRank and website: www.hackerrank.com'\n",
    "Task\n",
    "\n",
    "You are given a polynomial  of a single indeterminate (or variable), .\n",
    "You are also given the values of  and . Your task is to verify if .\n",
    "\n",
    "Constraints\n",
    "All coefficients of polynomial  are integers.\n",
    " and  are also integers.\n",
    "\n",
    "Input Format\n",
    "\n",
    "The first line contains the space separated values of  and .\n",
    "The second line contains the polynomial .\n",
    "\n",
    "Output Format\n",
    "\n",
    "Print True if . Otherwise, print False.\n",
    "\n",
    "Sample Input\n",
    "\n",
    "1 4\n",
    "x**3 + x**2 + x + 1\n",
    "Sample Output\n",
    "\n",
    "True\n",
    "Explanation\n",
    "\n",
    "\n",
    "Hence, the output is True."
   ]
  },
  {
   "cell_type": "code",
   "execution_count": null,
   "metadata": {},
   "outputs": [],
   "source": [
    "x, k = map(int,input().split(\" \"))\n",
    "print(eval(input()) == k)"
   ]
  }
 ],
 "metadata": {
  "kernelspec": {
   "display_name": "Python 3",
   "language": "python",
   "name": "python3"
  },
  "language_info": {
   "codemirror_mode": {
    "name": "ipython",
    "version": 3
   },
   "file_extension": ".py",
   "mimetype": "text/x-python",
   "name": "python",
   "nbconvert_exporter": "python",
   "pygments_lexer": "ipython3",
   "version": "3.7.4"
  }
 },
 "nbformat": 4,
 "nbformat_minor": 2
}
