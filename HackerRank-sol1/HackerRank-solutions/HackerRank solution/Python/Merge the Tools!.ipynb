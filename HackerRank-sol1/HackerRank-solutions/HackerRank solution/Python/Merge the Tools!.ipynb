{
 "cells": [
  {
   "cell_type": "raw",
   "metadata": {},
   "source": [
    "Consider the following:\n",
    "\n",
    "A string, , of length  where .\n",
    "An integer, , where  is a factor of .\n",
    "We can split  into  subsegments where each subsegment, , consists of a contiguous block of  characters in . Then, use each  to create string  such that:\n",
    "\n",
    "The characters in  are a subsequence of the characters in .\n",
    "Any repeat occurrence of a character is removed from the string such that each character in  occurs exactly once. In other words, if the character at some index  in  occurs at a previous index  in , then do not include the character in string .\n",
    "Given  and , print  lines where each line  denotes string .\n",
    "\n",
    "Input Format\n",
    "\n",
    "The first line contains a single string denoting .\n",
    "The second line contains an integer, , denoting the length of each subsegment.\n",
    "\n",
    "Constraints\n",
    "\n",
    ", where  is the length of \n",
    "It is guaranteed that  is a multiple of .\n",
    "Output Format\n",
    "\n",
    "Print  lines where each line  contains string .\n",
    "\n",
    "Sample Input\n",
    "\n",
    "AABCAAADA\n",
    "3   \n",
    "Sample Output\n",
    "\n",
    "AB\n",
    "CA\n",
    "AD\n",
    "Explanation\n",
    "\n",
    "String  is split into  equal parts of length . We convert each  to  by removing any subsequent occurrences non-distinct characters in :\n",
    "\n",
    "We then print each  on a new line."
   ]
  },
  {
   "cell_type": "code",
   "execution_count": null,
   "metadata": {},
   "outputs": [],
   "source": [
    "def merge_the_tools(string, k):\n",
    "    while string :\n",
    "        new_Str= string[0:k]\n",
    "        print_String=''\n",
    "        for char in new_Str :\n",
    "            if char not in print_String :\n",
    "                print_String += char\n",
    "        print(print_String)\n",
    "        string = string[k:]\n",
    "                \n",
    "\n",
    "if __name__ == '__main__':\n",
    "    string, k = input(), int(input())\n",
    "    merge_the_tools(string, k)"
   ]
  }
 ],
 "metadata": {
  "kernelspec": {
   "display_name": "Python 3",
   "language": "python",
   "name": "python3"
  },
  "language_info": {
   "codemirror_mode": {
    "name": "ipython",
    "version": 3
   },
   "file_extension": ".py",
   "mimetype": "text/x-python",
   "name": "python",
   "nbconvert_exporter": "python",
   "pygments_lexer": "ipython3",
   "version": "3.7.4"
  }
 },
 "nbformat": 4,
 "nbformat_minor": 2
}
