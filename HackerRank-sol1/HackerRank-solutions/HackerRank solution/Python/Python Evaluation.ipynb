{
 "cells": [
  {
   "cell_type": "raw",
   "metadata": {},
   "source": [
    "The eval() expression is a very powerful built-in function of Python. It helps in evaluating an expression. The expression can be a Python statement, or a code object.\n",
    "\n",
    "For example:\n",
    "\n",
    ">>> eval(\"9 + 5\")\n",
    "14\n",
    ">>> x = 2\n",
    ">>> eval(\"x + 3\")\n",
    "5\n",
    "Here, eval() can also be used to work with Python keywords or defined functions and variables. These would normally be stored as strings.\n",
    "\n",
    "For example:\n",
    "\n",
    ">>> type(eval(\"len\"))\n",
    "<type 'builtin_function_or_method'>\n",
    "Without eval()\n",
    "\n",
    ">>> type(\"len\")\n",
    "<type 'str'>\n",
    "Task\n",
    "You are given an expression in a line. Read that line as a string variable, such as var, and print the result using eval(var).\n",
    "\n",
    "NOTE: Python2 users, please import from __future__ import print_function.\n",
    "\n",
    "Constraint\n",
    "Input string is less than 100 characters.\n",
    "\n",
    "Sample Input\n",
    "\n",
    "print(2 + 3)\n",
    "Sample Output\n",
    "\n",
    "5"
   ]
  },
  {
   "cell_type": "code",
   "execution_count": null,
   "metadata": {},
   "outputs": [],
   "source": [
    "eval(input(\"\"))"
   ]
  }
 ],
 "metadata": {
  "kernelspec": {
   "display_name": "Python 3",
   "language": "python",
   "name": "python3"
  },
  "language_info": {
   "codemirror_mode": {
    "name": "ipython",
    "version": 3
   },
   "file_extension": ".py",
   "mimetype": "text/x-python",
   "name": "python",
   "nbconvert_exporter": "python",
   "pygments_lexer": "ipython3",
   "version": "3.7.4"
  }
 },
 "nbformat": 4,
 "nbformat_minor": 2
}
