{
 "cells": [
  {
   "cell_type": "raw",
   "metadata": {},
   "source": [
    "Given a time in -hour AM/PM format, convert it to military (24-hour) time.\n",
    "\n",
    "Note: - 12:00:00AM on a 12-hour clock is 00:00:00 on a 24-hour clock.\n",
    "- 12:00:00PM on a 12-hour clock is 12:00:00 on a 24-hour clock.\n",
    "\n",
    "Example\n",
    "\n",
    "\n",
    "Return '12:01:00'.\n",
    "\n",
    "\n",
    "Return '00:01:00'.\n",
    "\n",
    "Function Description\n",
    "\n",
    "Complete the timeConversion function in the editor below. It should return a new string representing the input time in 24 hour format.\n",
    "\n",
    "timeConversion has the following parameter(s):\n",
    "\n",
    "string s: a time in  hour format\n",
    "Returns\n",
    "\n",
    "string: the time in  hour format\n",
    "Input Format\n",
    "\n",
    "A single string  that represents a time in -hour clock format (i.e.:  or ).\n",
    "\n",
    "Constraints\n",
    "\n",
    "All input times are valid\n",
    "Sample Input 0\n",
    "\n",
    "07:05:45PM\n",
    "Sample Output 0\n",
    "\n",
    "19:05:45"
   ]
  },
  {
   "cell_type": "code",
   "execution_count": null,
   "metadata": {},
   "outputs": [],
   "source": [
    "#!/bin/python3\n",
    "\n",
    "import os\n",
    "import sys\n",
    "\n",
    "#\n",
    "# Complete the timeConversion function below.\n",
    "#\n",
    "def timeConversion(s):\n",
    "    \n",
    "    if s[-2:] == \"AM\" and s[:2]==\"12\" : return \"00\"+s[2:-2]    \n",
    "    elif s[-2:] == \"AM\" : return s[:-2]  \n",
    "    elif s[-2:] == \"PM\" and s[:2] == \"12\": return s[:-2]   \n",
    "    else: return str(int(s[:2]) +12)+s[2:-2]\n",
    "        \n",
    "\n",
    "if __name__ == '__main__':\n",
    "    f = open(os.environ['OUTPUT_PATH'], 'w')\n",
    "\n",
    "    s = input()\n",
    "\n",
    "    result = timeConversion(s)\n",
    "\n",
    "    f.write(result + '\\n')\n",
    "\n",
    "    f.close()\n"
   ]
  }
 ],
 "metadata": {
  "kernelspec": {
   "display_name": "Python 3",
   "language": "python",
   "name": "python3"
  },
  "language_info": {
   "codemirror_mode": {
    "name": "ipython",
    "version": 3
   },
   "file_extension": ".py",
   "mimetype": "text/x-python",
   "name": "python",
   "nbconvert_exporter": "python",
   "pygments_lexer": "ipython3",
   "version": "3.7.4"
  }
 },
 "nbformat": 4,
 "nbformat_minor": 2
}
